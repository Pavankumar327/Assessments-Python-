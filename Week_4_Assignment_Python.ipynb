{
  "nbformat": 4,
  "nbformat_minor": 0,
  "metadata": {
    "colab": {
      "name": "Week 4: Assignment_Python.ipynb",
      "provenance": [],
      "collapsed_sections": [],
      "authorship_tag": "ABX9TyMTAtJQO3qyDx5Z2VSrlt9v",
      "include_colab_link": true
    },
    "kernelspec": {
      "name": "python3",
      "display_name": "Python 3"
    },
    "language_info": {
      "name": "python"
    }
  },
  "cells": [
    {
      "cell_type": "markdown",
      "metadata": {
        "id": "view-in-github",
        "colab_type": "text"
      },
      "source": [
        "<a href=\"https://colab.research.google.com/github/Pavankumar327/Assignments-Python-/blob/main/Week_4_Assignment_Python.ipynb\" target=\"_parent\"><img src=\"https://colab.research.google.com/assets/colab-badge.svg\" alt=\"Open In Colab\"/></a>"
      ]
    },
    {
      "cell_type": "markdown",
      "source": [
        "# Week 4: Assignment_Python"
      ],
      "metadata": {
        "id": "SggZ4XeIXw7c"
      }
    },
    {
      "cell_type": "markdown",
      "source": [
        "Q1.TEAM ASSESMENTS"
      ],
      "metadata": {
        "id": "-LWPVIi-X345"
      }
    },
    {
      "cell_type": "markdown",
      "source": [
        "The Team Leader of Testing team of XYZ company decided to assess the team members by organising a programming event.\n",
        " So he gave the team a task.\n",
        "The task is given an array of size N, find the number of distinct elements in the array and print them in ascending order.\n",
        "  Those members who answer, will get some reward."
      ],
      "metadata": {
        "id": "1o2QKToIX_JX"
      }
    },
    {
      "cell_type": "markdown",
      "source": [
        "Write a program to help the Team Leader to evaluate the solutions of the team members."
      ],
      "metadata": {
        "id": "1T0YV-DgYUuC"
      }
    },
    {
      "cell_type": "markdown",
      "source": [
        "Input format:\n",
        "\n",
        "\n",
        "The first line contains a single integer that denotes the size of the array, N.\n",
        "The second line contains N space separated integer values of the array."
      ],
      "metadata": {
        "id": "gVLeVoDbYfCT"
      }
    },
    {
      "cell_type": "markdown",
      "source": [
        "Output format:\n",
        "\n",
        "The first line is an integer that denotes the number of the distinct elements i nthe array.\n",
        "The second line is a series of integers seperated by space that denotes the distinct elements."
      ],
      "metadata": {
        "id": "GoimrbQ4YkVB"
      }
    },
    {
      "cell_type": "markdown",
      "source": [
        "Sample Input 1:\n",
        "\n",
        "5\n",
        "\n",
        "1 2 1 2 1\n",
        "\n",
        "Sample Output 1:\n",
        "\n",
        "2\n",
        "\n",
        "1 2\n",
        "\n",
        "\n",
        "Sample Input 2:\n",
        "\n",
        "5\n",
        "\n",
        "145 25 21 25 36\n",
        "\n",
        "Sample Output 2:\n",
        "\n",
        "4\n",
        "\n",
        "21 25 36 145"
      ],
      "metadata": {
        "id": "CTUvPPpAYwdh"
      }
    },
    {
      "cell_type": "markdown",
      "source": [
        "# Solution"
      ],
      "metadata": {
        "id": "f8SwKJmMZDdP"
      }
    },
    {
      "cell_type": "code",
      "source": [
        "n=int(input(\"Enter number of elements : \"))\n",
        "list1 = sorted(list(set(map(int,input(\"\\nEnter the numbers : \").split()[:n]))))\n",
        "print(len(list1))\n",
        "for i in list1:\n",
        "    print(i,end=\" \")"
      ],
      "metadata": {
        "colab": {
          "base_uri": "https://localhost:8080/"
        },
        "id": "S9BcO4h9ZG8e",
        "outputId": "eb612c6d-83f9-4d0e-a8e5-66ce67f1ae92"
      },
      "execution_count": null,
      "outputs": [
        {
          "output_type": "stream",
          "name": "stdout",
          "text": [
            "Enter number of elements : 5\n",
            "\n",
            "Enter the numbers : 12 32 45 32 67\n",
            "4\n",
            "12 32 45 67 "
          ]
        }
      ]
    },
    {
      "cell_type": "markdown",
      "source": [
        "Q2.ANUSHKA’S PROBLEM"
      ],
      "metadata": {
        "id": "HSu7yIa3ag9b"
      }
    },
    {
      "cell_type": "markdown",
      "source": [
        "Anuska has created a robot that will take instructions and work accordingly. Due to budget problem, she has set the memory low. To overcome that, she has to encode the instruction. Given the instructions, count the consecutive characters and each character will be followed by its frequency.\n",
        "\n",
        "For example, if the instruction is \"aaaabb\", the encoded instruction is \"a4b2\".\n",
        "\n",
        "\n",
        "Note:If the frequency is one, the count need not be printed.\n",
        "\n",
        "\n",
        "Input format:\n",
        "\n",
        "The first input is a string that denotes the instruction, S.\n",
        "\n",
        "\n",
        "Output format\n",
        "\n",
        "Output is a string that denotes the encoded string.\n",
        "\n",
        "\n",
        "Sample input 1:\n",
        "\n",
        "aaaabb\n",
        "\n",
        "Sample output 1:\n",
        "\n",
        "a4b2\n",
        "\n",
        "\n",
        "Sample input 2:\n",
        "\n",
        "sggvvvgss\n",
        "\n",
        "Sample output 2:\n",
        "\n",
        "sg2v3gs2"
      ],
      "metadata": {
        "id": "yslW6YTUbI36"
      }
    },
    {
      "cell_type": "markdown",
      "source": [
        "# Solution"
      ],
      "metadata": {
        "id": "TfwcGSh4eBdY"
      }
    },
    {
      "cell_type": "code",
      "source": [
        "def func1(s) :\n",
        "    i = 0\n",
        "    while( i < len(s)) :\n",
        "        if i == len(s)-1:    \n",
        "            print(str(s[i]),end = \"\")\n",
        "            break\n",
        "        else:\n",
        "            if s[i]==s[i+1]:\n",
        "                count = 1\n",
        "                while s[i] == s[i + 1] :\n",
        "                    i += 1\n",
        "                    count += 1\n",
        "                    if i + 1 == len(s):\n",
        "                        break\n",
        "                print(str(s[i]) + str(count),end = \"\")         \n",
        "            else:\n",
        "                print(str(s[i]),end = \"\")\n",
        "        i += 1\n",
        "    print()\n",
        " \n",
        "\n",
        "n=input()\n",
        "func1(n)"
      ],
      "metadata": {
        "colab": {
          "base_uri": "https://localhost:8080/"
        },
        "id": "-qvOcK4pb4b8",
        "outputId": "ccc9e7ed-f8f1-475a-df57-e92c4b9582a2"
      },
      "execution_count": null,
      "outputs": [
        {
          "output_type": "stream",
          "name": "stdout",
          "text": [
            "pppvvvkkk\n",
            "p3v3k3\n"
          ]
        }
      ]
    },
    {
      "cell_type": "markdown",
      "source": [
        "\n",
        "Q3.SKILL TESTING \n",
        "\n",
        "Amar's team is assigned with a project that deals with the digital signals. He is aware that the digital signals will be represented as arrays. He wants to test his team with respect to their strength in arrays.As part of the skill testing, the task is as follows. You are given an array of integers of size N. \n",
        "Consider all its contiguous subarrays of length k and find the maximum sum. \n",
        "Do this for all k from 1 to the length of the input array. Write a program to evaluate the task done by the kids.\n",
        "\n",
        "Input format: \n",
        "The first line contains a single integer denotes the size of the array, N. The second line contains N-space separated integer that corresponds to the values of the array.\n",
        "\n",
        "Output format: \n",
        "The output consists of N-space separated integer values of the result array.\n",
        "\n",
        "Sample Input 1: \n",
        "5\n",
        " -1 2 1 3 -2 \n",
        "\n",
        "Sample Output 1:\n",
        " 3 4 6 5 3\n",
        "\n",
        "Explanation: \n",
        "\n",
        "For inputArray = [-1, 2, 1, 3, -2], the output should be [3, 2, 1, 0, 0]. The contiguous subarray of K = 1, each subarray will have 1 element. \n",
        "\n",
        "The sub-array with maximum sum is [3]. So result[0] = 3. of K = 2, each subarray will have 2 elements.\n",
        " \n",
        "The sub-array with maximum sum is [1,3]. So result[1] = 4. of K = 3, each subarray will have 3 elements. \n",
        "\n",
        "The sub-array with maximum sum is [2,1,3]. So result[2] = 6. of K = 4, each subarray will have 4 elements. \n",
        "\n",
        "The sub-array with maximum sum is [-1,2,1,3]. So result[1] = 5. of K = 5, each subarray will have 5 elements. \n",
        "\n",
        "The sub-array with maximum sum is [-1,2,1,3,-2]. So result[1] = 3. So the result array is [3, 4, 6, 5, 3].\n",
        "\n",
        "Sample Input 2: \n",
        "\n",
        "5 \n",
        "\n",
        "2 3 2 -2 3 \n",
        "\n",
        "Sample Output 2: \n",
        "\n",
        "3 5 7 6 8"
      ],
      "metadata": {
        "id": "w0HEvRIdcWEc"
      }
    },
    {
      "cell_type": "markdown",
      "source": [
        "# Solution"
      ],
      "metadata": {
        "id": "tNLbkAhgd-Qh"
      }
    },
    {
      "cell_type": "code",
      "source": [
        "n=int(input(\"Enter number of elements : \"))\n",
        "List1 = list(map(int,input(\"\\nEnter the numbers : \").split()[:n]))\n",
        "List2 = [List1[i:i+j] for i in range(0,len(List1)) for j in range(1,len(List1)-i+1)]\n",
        "j=1\n",
        "for i in range(0,n):\n",
        "    count=0\n",
        "    for i in range(0,len(List2)):\n",
        "        if len(List2[i])==j:\n",
        "            if sum(List2[i])>count:\n",
        "                count=sum(List2[i])\n",
        "    j+=1\n",
        "    print(count,end=\" \")"
      ],
      "metadata": {
        "colab": {
          "base_uri": "https://localhost:8080/"
        },
        "id": "dKu938tXdkrh",
        "outputId": "98337a81-464f-40ae-9ffa-eefe9c5a3273"
      },
      "execution_count": null,
      "outputs": [
        {
          "output_type": "stream",
          "name": "stdout",
          "text": [
            "Enter number of elements : 5\n",
            "\n",
            "Enter the numbers : 2 3 2 -2 3\n",
            "3 5 7 6 8 "
          ]
        }
      ]
    }
  ]
}